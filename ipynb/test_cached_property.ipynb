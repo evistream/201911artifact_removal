{
 "cells": [
  {
   "cell_type": "code",
   "execution_count": 1,
   "metadata": {
    "ExecuteTime": {
     "end_time": "2019-11-29T04:12:57.976880Z",
     "start_time": "2019-11-29T04:12:57.969220Z"
    }
   },
   "outputs": [],
   "source": [
    "from cached_property import cached_property\n",
    "\n",
    "class Monopoly(object):\n",
    "\n",
    "    def __init__(self):\n",
    "        self.boardwalk_price = 500\n",
    "\n",
    "    @cached_property\n",
    "    def boardwalk(self):\n",
    "        # Again, this is a silly example. Don't worry about it, this is\n",
    "        #   just an example for clarity.\n",
    "        self.boardwalk_price += 50\n",
    "        return self.boardwalk_price"
   ]
  },
  {
   "cell_type": "code",
   "execution_count": 11,
   "metadata": {
    "ExecuteTime": {
     "end_time": "2019-11-29T04:15:41.233665Z",
     "start_time": "2019-11-29T04:15:41.220306Z"
    }
   },
   "outputs": [
    {
     "name": "stdout",
     "output_type": "stream",
     "text": [
      "550\n",
      "550\n",
      "550\n",
      "999\n",
      "999\n",
      "999\n",
      "None\n",
      "None\n",
      "None\n",
      "600\n",
      "600\n",
      "600\n"
     ]
    }
   ],
   "source": [
    "monopoly = Monopoly()\n",
    "print(monopoly.boardwalk)\n",
    "print(monopoly.boardwalk)\n",
    "print(monopoly.boardwalk)\n",
    "monopoly.boardwalk = 999\n",
    "print(monopoly.boardwalk)\n",
    "print(monopoly.boardwalk)\n",
    "print(monopoly.boardwalk)\n",
    "monopoly.boardwalk = None\n",
    "print(monopoly.boardwalk)\n",
    "print(monopoly.boardwalk)\n",
    "print(monopoly.boardwalk)\n",
    "del monopoly.boardwalk\n",
    "print(monopoly.boardwalk)\n",
    "print(monopoly.boardwalk)\n",
    "print(monopoly.boardwalk)"
   ]
  }
 ],
 "metadata": {
  "kernelspec": {
   "display_name": "Python 3",
   "language": "python",
   "name": "python3"
  },
  "language_info": {
   "codemirror_mode": {
    "name": "ipython",
    "version": 3
   },
   "file_extension": ".py",
   "mimetype": "text/x-python",
   "name": "python",
   "nbconvert_exporter": "python",
   "pygments_lexer": "ipython3",
   "version": "3.7.5"
  },
  "toc": {
   "base_numbering": 1,
   "nav_menu": {},
   "number_sections": true,
   "sideBar": true,
   "skip_h1_title": false,
   "title_cell": "Table of Contents",
   "title_sidebar": "Contents",
   "toc_cell": false,
   "toc_position": {},
   "toc_section_display": true,
   "toc_window_display": false
  }
 },
 "nbformat": 4,
 "nbformat_minor": 2
}
