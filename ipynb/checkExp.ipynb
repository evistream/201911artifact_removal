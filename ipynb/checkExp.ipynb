{
 "cells": [
  {
   "cell_type": "code",
   "execution_count": 22,
   "metadata": {
    "ExecuteTime": {
     "end_time": "2019-11-14T07:50:55.082566Z",
     "start_time": "2019-11-14T07:50:55.073435Z"
    },
    "pycharm": {
     "is_executing": false
    }
   },
   "outputs": [
    {
     "name": "stdout",
     "output_type": "stream",
     "text": [
      "takahashi1112\n",
      "/Users/KozSakk/Documents/research/sakurayama/201911artifact_removal\n"
     ]
    }
   ],
   "source": [
    "import sys\n",
    "sys.path.append('../')\n",
    "from localconfig import BASE_PATH,EXPS\n",
    "\n",
    "EXP=EXPS[0]\n",
    "print(EXP)\n",
    "print(BASE_PATH)\n",
    "\n",
    "import pathlib\n",
    "import numpy as np\n",
    "np.set_printoptions(threshold=1050)\n",
    "from pprint import pprint\n",
    "\n",
    "import maxone_code.data"
   ]
  },
  {
   "cell_type": "code",
   "execution_count": 23,
   "metadata": {
    "ExecuteTime": {
     "end_time": "2019-11-14T07:50:55.471096Z",
     "start_time": "2019-11-14T07:50:55.459909Z"
    }
   },
   "outputs": [],
   "source": [
    "import importlib\n",
    "importlib.reload(maxone_code.data)\n",
    "from maxone_code.data import RawFile,elecid2posi\n",
    "from maxone_code.data import Experiment"
   ]
  },
  {
   "cell_type": "code",
   "execution_count": 24,
   "metadata": {
    "ExecuteTime": {
     "end_time": "2019-11-14T07:50:57.148448Z",
     "start_time": "2019-11-14T07:50:56.001666Z"
    }
   },
   "outputs": [
    {
     "name": "stdout",
     "output_type": "stream",
     "text": [
      "sig shape: (1028, 120000)\n",
      "record time: 6[s]\n",
      "record eles:size 25, [6203, 5765, 5546, 5323, 5324, 5543, 5766, 5985, 5542, 5983, 5762, 5545, 5984, 5764, 6204, 5982, 6205, 6206, 5326, 5763, 5322, 6202, 5325, 5986, 5544]\n",
      "record channels: dict_keys([60, 72, 84, 88, 180, 192, 196, 208, 436, 536, 544, 548, 564, 600, 612, 636, 700, 712, 716, 720, 732, 740, 744, 752, 756])\n",
      "trail start frame  [20290, 40370, 60450, 80530, 100610]\n",
      "stim interval  [20080 20080 20080 20080]\n"
     ]
    }
   ],
   "source": [
    "path=pathlib.Path(BASE_PATH).joinpath('data',EXP,'raw','searching-5764-5764.raw.h5')\n",
    "exp=Experiment(path)\n",
    "exp.disp()"
   ]
  },
  {
   "cell_type": "code",
   "execution_count": 51,
   "metadata": {
    "ExecuteTime": {
     "end_time": "2019-11-14T08:38:36.839300Z",
     "start_time": "2019-11-14T08:38:36.770456Z"
    }
   },
   "outputs": [],
   "source": [
    "STIM_ELEC=path.name.split('.')[0].split('-')[-1]\n",
    "STIM_CHANNEL=exp.rawfile.elec2channel(int(STIM_ELEC))\n",
    "\n",
    "SIZE_TRIAL=5\n",
    "SIZE_CHANNEL=24\n",
    "SIZE_FRAME=80 #for 4ms\n",
    "\n",
    "forcus_channels=list(exp.rawfile.channel2elec_table.keys())\n",
    "forcus_channels.remove(STIM_CHANNEL)\n",
    "\n",
    "assert(SIZE_TRIAL==len(exp.trial_start_frames))\n",
    "assert(SIZE_CHANNEL==len(forcus_channels))\n",
    "\n",
    "channel2data_table={}\n",
    "data2channel_table={}\n",
    "for i,chan in enumerate(forcus_channels):\n",
    "    channel2data_table[chan]=i\n",
    "    data2channel_table[i]=chan\n",
    "\n",
    "data_raw=np.zeros((SIZE_TRIAL,SIZE_CHANNEL,SIZE_FRAME))\n",
    "source=exp.rawfile.sig\n",
    "\n",
    "for i,start_frame in enumerate(exp.trial_start_frames):\n",
    "    for j,channel in enumerate(forcus_channels):\n",
    "        s_slice=np.s_[channel, start_frame:start_frame+SIZE_FRAME]\n",
    "        d_slice=np.s_[:SIZE_FRAME]\n",
    "        source.read_direct(data_raw[i][j], source_sel=s_slice, dest_sel=d_slice)\n"
   ]
  },
  {
   "cell_type": "code",
   "execution_count": null,
   "metadata": {
    "collapsed": true
   },
   "outputs": [],
   "source": []
  }
 ],
 "metadata": {
  "kernelspec": {
   "display_name": "Python 3",
   "language": "python",
   "name": "python3"
  },
  "language_info": {
   "codemirror_mode": {
    "name": "ipython",
    "version": 3
   },
   "file_extension": ".py",
   "mimetype": "text/x-python",
   "name": "python",
   "nbconvert_exporter": "python",
   "pygments_lexer": "ipython3",
   "version": "3.7.4"
  },
  "pycharm": {
   "stem_cell": {
    "cell_type": "raw",
    "metadata": {
     "collapsed": false
    },
    "source": []
   }
  },
  "toc": {
   "base_numbering": 1,
   "nav_menu": {},
   "number_sections": true,
   "sideBar": true,
   "skip_h1_title": false,
   "title_cell": "Table of Contents",
   "title_sidebar": "Contents",
   "toc_cell": false,
   "toc_position": {},
   "toc_section_display": true,
   "toc_window_display": false
  }
 },
 "nbformat": 4,
 "nbformat_minor": 2
}
