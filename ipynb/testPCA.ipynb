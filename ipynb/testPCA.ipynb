{
 "cells": [
  {
   "cell_type": "code",
   "execution_count": 48,
   "metadata": {
    "ExecuteTime": {
     "end_time": "2019-11-26T04:52:12.347331Z",
     "start_time": "2019-11-26T04:52:11.485181Z"
    }
   },
   "outputs": [
    {
     "data": {
      "text/plain": [
       "<matplotlib.collections.PathCollection at 0x122ceeb90>"
      ]
     },
     "execution_count": 48,
     "metadata": {},
     "output_type": "execute_result"
    },
    {
     "data": {
      "image/png": "[encoded data removed]",
      "text/plain": [
       "<Figure size 360x360 with 1 Axes>"
      ]
     },
     "metadata": {
      "needs_background": "light"
     },
     "output_type": "display_data"
    },
    {
     "data": {
      "image/png": "[encoded data removed]",
      "text/plain": [
       "<Figure size 360x360 with 1 Axes>"
      ]
     },
     "metadata": {
      "needs_background": "light"
     },
     "output_type": "display_data"
    }
   ],
   "source": [
    "import matplotlib.pyplot as plt\n",
    "import numpy as np\n",
    "from sklearn.decomposition import IncrementalPCA\n",
    "\n",
    "def genData(n):\n",
    "    arr=[]\n",
    "    for i in range(n):\n",
    "        x = np.random.random()\n",
    "        ele=[np.random.random()+10*x,np.random.random()+20*x,np.random.random()+30*x,np.random.random()+50*x,]\n",
    "        arr.append(ele)\n",
    "    return np.array(arr)\n",
    "\n",
    "X = genData(20)\n",
    "pca = PCA(n_components=3)\n",
    "pca.fit(X)\n",
    "X_=pca.transform(X)\n",
    "\n",
    "b = np.mean(X, axis=0)\n",
    "X_reduced=np.matmul(X_,pca.components_) + b\n",
    "\n",
    "fig = plt.figure(figsize=(5,5))\n",
    "axes = fig.add_subplot(1, 1, 1)\n",
    "axes.scatter(X[:,0],X[:,1], color='red', label='raw')\n",
    "axes.scatter(X_reduced[:,0],X_reduced[:,1], color='b', label='reduced')\n",
    "\n",
    "fig = plt.figure(figsize=(5,5))\n",
    "axes = fig.add_subplot(1, 1, 1)\n",
    "axes.scatter(X_[:,0],X_[:,1], color='red', label='transformed')\n"
   ]
  },
  {
   "cell_type": "code",
   "execution_count": 49,
   "metadata": {
    "ExecuteTime": {
     "end_time": "2019-11-26T04:52:54.335720Z",
     "start_time": "2019-11-26T04:52:54.322318Z"
    }
   },
   "outputs": [
    {
     "data": {
      "text/plain": [
       "(20, 3)"
      ]
     },
     "execution_count": 49,
     "metadata": {},
     "output_type": "execute_result"
    }
   ],
   "source": [
    "X_.shape"
   ]
  }
 ],
 "metadata": {
  "kernelspec": {
   "display_name": "Python 3",
   "language": "python",
   "name": "python3"
  },
  "language_info": {
   "codemirror_mode": {
    "name": "ipython",
    "version": 3
   },
   "file_extension": ".py",
   "mimetype": "text/x-python",
   "name": "python",
   "nbconvert_exporter": "python",
   "pygments_lexer": "ipython3",
   "version": "3.7.4"
  },
  "toc": {
   "base_numbering": 1,
   "nav_menu": {},
   "number_sections": true,
   "sideBar": true,
   "skip_h1_title": false,
   "title_cell": "Table of Contents",
   "title_sidebar": "Contents",
   "toc_cell": false,
   "toc_position": {},
   "toc_section_display": true,
   "toc_window_display": false
  }
 },
 "nbformat": 4,
 "nbformat_minor": 2
}
