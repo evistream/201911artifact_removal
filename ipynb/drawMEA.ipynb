{
 "cells": [
  {
   "cell_type": "code",
   "execution_count": 1,
   "metadata": {
    "ExecuteTime": {
     "end_time": "2019-11-20T04:16:43.884853Z",
     "start_time": "2019-11-20T04:16:42.840185Z"
    }
   },
   "outputs": [],
   "source": [
    "import numpy as np\n",
    "import matplotlib.pyplot as plt\n",
    "import h5py\n",
    "\n",
    "import matplotlib.ticker as ticker # FormatterとLocatorはTickerモジュールが必要\n"
   ]
  },
  {
   "cell_type": "code",
   "execution_count": 12,
   "metadata": {
    "ExecuteTime": {
     "end_time": "2019-11-20T10:03:57.200111Z",
     "start_time": "2019-11-20T10:03:57.144234Z"
    }
   },
   "outputs": [],
   "source": [
    "record_eles={\n",
    "    'a':(1,1),\n",
    "    'b':(4,4)\n",
    "}\n",
    "stim_eles={\n",
    "    'c':(3,3)\n",
    "}"
   ]
  },
  {
   "cell_type": "code",
   "execution_count": 13,
   "metadata": {
    "ExecuteTime": {
     "end_time": "2019-11-20T10:03:57.385520Z",
     "start_time": "2019-11-20T10:03:57.365407Z"
    }
   },
   "outputs": [],
   "source": [
    "def disp_mea_all(record_eles,stim_eles):\n",
    "    mat=np.zeros((5,5))\n",
    "    for name, posi in record_eles.items():\n",
    "        mat[posi]=-1\n",
    "    for name, posi in stim_eles.items():\n",
    "        mat[posi]=1\n",
    "\n",
    "    fig = plt.figure(figsize=(3,3))\n",
    "    axes = fig.add_subplot(1,1,1)\n",
    "    im = axes.imshow(mat, vmin=-1., vmax=1,aspect=1, origin='lower',cmap=\"bwr\") #heatmap"
   ]
  },
  {
   "cell_type": "code",
   "execution_count": 4,
   "metadata": {
    "ExecuteTime": {
     "end_time": "2019-11-20T04:16:43.935974Z",
     "start_time": "2019-11-20T04:16:43.926907Z"
    }
   },
   "outputs": [],
   "source": [
    "a=range(5,10)"
   ]
  },
  {
   "cell_type": "code",
   "execution_count": 5,
   "metadata": {
    "ExecuteTime": {
     "end_time": "2019-11-20T04:16:43.963041Z",
     "start_time": "2019-11-20T04:16:43.946809Z"
    }
   },
   "outputs": [
    {
     "data": {
      "text/plain": [
       "(slice(5, 6, None), slice(10, 12, None))"
      ]
     },
     "execution_count": 5,
     "metadata": {},
     "output_type": "execute_result"
    }
   ],
   "source": [
    "np.s_[5:6,10:12]"
   ]
  },
  {
   "cell_type": "code",
   "execution_count": null,
   "metadata": {},
   "outputs": [],
   "source": []
  },
  {
   "cell_type": "code",
   "execution_count": 6,
   "metadata": {
    "ExecuteTime": {
     "end_time": "2019-11-20T04:16:43.985194Z",
     "start_time": "2019-11-20T04:16:43.975574Z"
    }
   },
   "outputs": [],
   "source": [
    "a=[[4,100],[5,101]]"
   ]
  },
  {
   "cell_type": "code",
   "execution_count": 7,
   "metadata": {
    "ExecuteTime": {
     "end_time": "2019-11-20T04:16:44.001199Z",
     "start_time": "2019-11-20T04:16:43.992608Z"
    }
   },
   "outputs": [],
   "source": [
    "a=np.array(a)"
   ]
  },
  {
   "cell_type": "code",
   "execution_count": 8,
   "metadata": {
    "ExecuteTime": {
     "end_time": "2019-11-20T04:16:44.023437Z",
     "start_time": "2019-11-20T04:16:44.007095Z"
    }
   },
   "outputs": [
    {
     "data": {
      "text/plain": [
       "array([  5, 101])"
      ]
     },
     "execution_count": 8,
     "metadata": {},
     "output_type": "execute_result"
    }
   ],
   "source": [
    "a.max(axis=0)"
   ]
  },
  {
   "cell_type": "code",
   "execution_count": 9,
   "metadata": {
    "ExecuteTime": {
     "end_time": "2019-11-20T04:16:44.420428Z",
     "start_time": "2019-11-20T04:16:44.028062Z"
    }
   },
   "outputs": [
    {
     "data": {
      "image/png": "[encoded data removed]",
      "text/plain": [
       "<Figure size 216x216 with 1 Axes>"
      ]
     },
     "metadata": {
      "needs_background": "light"
     },
     "output_type": "display_data"
    }
   ],
   "source": [
    "mat=np.zeros((5,5))\n",
    "for name, posi in record_eles.items():\n",
    "    mat[posi]=-1\n",
    "for name, posi in stim_eles.items():\n",
    "    mat[posi]=1\n",
    "\n",
    "fig = plt.figure(figsize=(3,3))\n",
    "axes = fig.add_subplot(1,1,1)\n",
    "\n",
    "for name, posi in record_eles.items():\n",
    "#     name+='\\n test'\n",
    "    txt = name + '\\n' + str(posi)\n",
    "    x,y=posi\n",
    "    axes.text(x, y, txt, va='center', ha='center')\n",
    "for name, posi in stim_eles.items():\n",
    "    txt = name + '\\n' + str(posi)\n",
    "    x,y=posi\n",
    "    axes.text(x, y, txt, va='center', ha='center')\n",
    "\n",
    "im = axes.imshow(mat, vmin=-1., vmax=1,aspect=1, origin='lower',cmap=\"bwr\") #heatmap\n"
   ]
  },
  {
   "cell_type": "code",
   "execution_count": 10,
   "metadata": {
    "ExecuteTime": {
     "end_time": "2019-11-20T04:16:44.452239Z",
     "start_time": "2019-11-20T04:16:44.424175Z"
    }
   },
   "outputs": [],
   "source": [
    "def drawMEA(mapping,stm_eles,figname=None,title=None):\n",
    "    if title is None:\n",
    "        title='MEA map'\n",
    "    mat=mapping\n",
    "    mat=mapping.transpose()\n",
    "    fig = plt.figure(figsize=(11,6))\n",
    "    axes = fig.add_subplot(1,1,1)\n",
    "    # im = axes.imshow(C,aspect=1,vmin=0., vmax=2, cmap=\"jet\") #heatmap\n",
    "    im = axes.imshow(mat,vmin=-1., vmax=1,aspect=1,cmap=\"bwr\") #heatmap\n",
    "    axes.set_title(title)\n",
    "    axes.yaxis.set_visible(False) #y軸のめもりを非表示\n",
    "    axes.xaxis.set_visible(False) #y軸のめもりを非表示\n",
    "    for sid,s in enumerate(stm_eles):\n",
    "        elec_id=s\n",
    "        x=elec_id%220\n",
    "        y=elec_id//220\n",
    "        byte='a'.encode('ascii')\n",
    "        byte=[byte[0]+sid]\n",
    "        char=bytes(byte).decode('ascii')\n",
    "        axes.text(x+1, y+1, char)\n",
    "    if figname is not None:\n",
    "        fig.savefig(figname)\n",
    "\n",
    "def makeMeaMap(path,figname=None,title=None):\n",
    "    h5file=path+'activity.raw.h5'\n",
    "    stmfile=path+'configs/stm.txt'\n",
    "\n",
    "    mapping=np.zeros((220,120))\n",
    "    with h5py.File(h5file, \"r\") as h5f:\n",
    "        for e in h5f['mapping']:\n",
    "            elec_id=e[1]\n",
    "            i=elec_id%220\n",
    "            j=elec_id//220\n",
    "            mapping[i,j]=-0.5\n",
    "\n",
    "    stm_eles=[]\n",
    "    with open(stmfile, \"r\") as file:\n",
    "        for line in file:\n",
    "            stm_eles.append(int(line))\n",
    "    if len(stm_eles) < 4:\n",
    "        raise Excepion\n",
    "    else:\n",
    "        stm_eles=stm_eles[:4]\n",
    "        \n",
    "    for s in stm_eles:\n",
    "        elec_id=s\n",
    "        i=elec_id%220\n",
    "        j=elec_id//220\n",
    "        mapping[i,j]=1\n",
    "    if figname is None:\n",
    "        figname=path+'meamap'\n",
    "    if title is None:\n",
    "        title='meamap'\n",
    "    drawMEA(mapping,stm_eles,figname,title)"
   ]
  },
  {
   "cell_type": "code",
   "execution_count": 11,
   "metadata": {
    "ExecuteTime": {
     "end_time": "2019-11-20T04:16:44.688937Z",
     "start_time": "2019-11-20T04:16:44.456137Z"
    }
   },
   "outputs": [
    {
     "ename": "NameError",
     "evalue": "name 'signal' is not defined",
     "output_type": "error",
     "traceback": [
      "\u001b[0;31m---------------------------------------------------------------------------\u001b[0m",
      "\u001b[0;31mNameError\u001b[0m                                 Traceback (most recent call last)",
      "\u001b[0;32m<ipython-input-11-7867fab03bca>\u001b[0m in \u001b[0;36m<module>\u001b[0;34m\u001b[0m\n\u001b[0;32m----> 1\u001b[0;31m \u001b[0mb\u001b[0m\u001b[0;34m,\u001b[0m \u001b[0ma\u001b[0m \u001b[0;34m=\u001b[0m \u001b[0msignal\u001b[0m\u001b[0;34m.\u001b[0m\u001b[0mbutter\u001b[0m\u001b[0;34m(\u001b[0m\u001b[0;36m4\u001b[0m\u001b[0;34m,\u001b[0m \u001b[0;36m300\u001b[0m\u001b[0;34m,\u001b[0m \u001b[0mbtype\u001b[0m\u001b[0;34m=\u001b[0m\u001b[0;34m'high'\u001b[0m\u001b[0;34m,\u001b[0m \u001b[0manalog\u001b[0m\u001b[0;34m=\u001b[0m\u001b[0;32mTrue\u001b[0m\u001b[0;34m)\u001b[0m\u001b[0;34m\u001b[0m\u001b[0;34m\u001b[0m\u001b[0m\n\u001b[0m\u001b[1;32m      2\u001b[0m \u001b[0mw\u001b[0m\u001b[0;34m,\u001b[0m \u001b[0mh\u001b[0m \u001b[0;34m=\u001b[0m \u001b[0msignal\u001b[0m\u001b[0;34m.\u001b[0m\u001b[0mfreqs\u001b[0m\u001b[0;34m(\u001b[0m\u001b[0mb\u001b[0m\u001b[0;34m,\u001b[0m \u001b[0ma\u001b[0m\u001b[0;34m)\u001b[0m\u001b[0;34m\u001b[0m\u001b[0;34m\u001b[0m\u001b[0m\n\u001b[1;32m      3\u001b[0m \u001b[0mplt\u001b[0m\u001b[0;34m.\u001b[0m\u001b[0mplot\u001b[0m\u001b[0;34m(\u001b[0m\u001b[0mw\u001b[0m\u001b[0;34m,\u001b[0m \u001b[0;36m20\u001b[0m \u001b[0;34m*\u001b[0m \u001b[0mnp\u001b[0m\u001b[0;34m.\u001b[0m\u001b[0mlog10\u001b[0m\u001b[0;34m(\u001b[0m\u001b[0mabs\u001b[0m\u001b[0;34m(\u001b[0m\u001b[0mh\u001b[0m\u001b[0;34m)\u001b[0m\u001b[0;34m)\u001b[0m\u001b[0;34m)\u001b[0m\u001b[0;34m\u001b[0m\u001b[0;34m\u001b[0m\u001b[0m\n\u001b[1;32m      4\u001b[0m \u001b[0mplt\u001b[0m\u001b[0;34m.\u001b[0m\u001b[0mxscale\u001b[0m\u001b[0;34m(\u001b[0m\u001b[0;34m'log'\u001b[0m\u001b[0;34m)\u001b[0m\u001b[0;34m\u001b[0m\u001b[0;34m\u001b[0m\u001b[0m\n\u001b[1;32m      5\u001b[0m \u001b[0mplt\u001b[0m\u001b[0;34m.\u001b[0m\u001b[0mtitle\u001b[0m\u001b[0;34m(\u001b[0m\u001b[0;34m'Butterworth filter frequency response'\u001b[0m\u001b[0;34m)\u001b[0m\u001b[0;34m\u001b[0m\u001b[0;34m\u001b[0m\u001b[0m\n",
      "\u001b[0;31mNameError\u001b[0m: name 'signal' is not defined"
     ]
    }
   ],
   "source": [
    "b, a = signal.butter(4, 300, btype='high', analog=True)\n",
    "w, h = signal.freqs(b, a)\n",
    "plt.plot(w, 20 * np.log10(abs(h)))\n",
    "plt.xscale('log')\n",
    "plt.title('Butterworth filter frequency response')\n",
    "plt.xlabel('Frequency [radians / second]')\n",
    "plt.ylabel('Amplitude [dB]')\n",
    "plt.margins(0, 0.1)\n",
    "plt.grid(which='both', axis='both')\n",
    "plt.axvline(300, color='green') # cutoff frequency\n",
    "plt.show()"
   ]
  },
  {
   "cell_type": "code",
   "execution_count": null,
   "metadata": {
    "ExecuteTime": {
     "end_time": "2019-11-20T04:16:44.693675Z",
     "start_time": "2019-11-20T04:16:42.849Z"
    }
   },
   "outputs": [],
   "source": [
    "from scipy import signal\n",
    "import matplotlib.pyplot as plt\n",
    "import numpy as np\n",
    "\n",
    "\n",
    "lowcut,highcut=(300,3000)\n",
    "fs = 20000  # Sampling frequency\n",
    "# nyq = 0.5 * 0.95 * fs\n",
    "nyq = 0.5 * fs\n",
    "low = lowcut / nyq\n",
    "high = highcut / nyq\n",
    "\n",
    "b, a = signal.butter(4, [300,3000], btype='band', analog=True)\n",
    "w, h = signal.freqs(b, a)\n",
    "plt.plot(w, 20 * np.log10(abs(h)))\n",
    "plt.xscale('log')\n",
    "plt.title('Butterworth filter frequency response')\n",
    "plt.xlabel('Frequency [radians / second]')\n",
    "plt.ylabel('Amplitude [dB]')\n",
    "plt.margins(0, 0.1)\n",
    "plt.grid(which='both', axis='both')\n",
    "plt.axvline(100, color='green') # cutoff frequency\n",
    "plt.show()"
   ]
  }
 ],
 "metadata": {
  "kernelspec": {
   "display_name": "Python 3",
   "language": "python",
   "name": "python3"
  },
  "language_info": {
   "codemirror_mode": {
    "name": "ipython",
    "version": 3
   },
   "file_extension": ".py",
   "mimetype": "text/x-python",
   "name": "python",
   "nbconvert_exporter": "python",
   "pygments_lexer": "ipython3",
   "version": "3.7.4"
  },
  "toc": {
   "base_numbering": 1,
   "nav_menu": {},
   "number_sections": true,
   "sideBar": true,
   "skip_h1_title": false,
   "title_cell": "Table of Contents",
   "title_sidebar": "Contents",
   "toc_cell": false,
   "toc_position": {},
   "toc_section_display": true,
   "toc_window_display": false
  }
 },
 "nbformat": 4,
 "nbformat_minor": 2
}
